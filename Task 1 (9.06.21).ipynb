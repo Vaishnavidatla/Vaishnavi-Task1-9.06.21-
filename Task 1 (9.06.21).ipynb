{
 "cells": [
  {
   "cell_type": "markdown",
   "id": "955ce72d",
   "metadata": {},
   "source": [
    "Checking the roll numbers"
   ]
  },
  {
   "cell_type": "code",
   "execution_count": 1,
   "id": "b6d79d25",
   "metadata": {},
   "outputs": [
    {
     "name": "stdout",
     "output_type": "stream",
     "text": [
      "Enter your roll number:-AP19110010374\n",
      "Roll Number not belongs to SRM University\n"
     ]
    }
   ],
   "source": [
    "string=input(\"Enter your roll number:-\")\n",
    "if string[-3:].startswith('01'):\n",
    "    print(\"CSE Department\")\n",
    "elif string[-3:].startswith('11'):\n",
    "    print(\"IT Department\")\n",
    "elif string[-3:].startswith('21'):\n",
    "    print(\"ECE Department\")\n",
    "else:\n",
    "    print(\"Roll Number not belongs to SRM University\")\n",
    "    "
   ]
  },
  {
   "cell_type": "code",
   "execution_count": null,
   "id": "c579ae92",
   "metadata": {},
   "outputs": [],
   "source": []
  }
 ],
 "metadata": {
  "kernelspec": {
   "display_name": "Python 3",
   "language": "python",
   "name": "python3"
  },
  "language_info": {
   "codemirror_mode": {
    "name": "ipython",
    "version": 3
   },
   "file_extension": ".py",
   "mimetype": "text/x-python",
   "name": "python",
   "nbconvert_exporter": "python",
   "pygments_lexer": "ipython3",
   "version": "3.8.8"
  }
 },
 "nbformat": 4,
 "nbformat_minor": 5
}
